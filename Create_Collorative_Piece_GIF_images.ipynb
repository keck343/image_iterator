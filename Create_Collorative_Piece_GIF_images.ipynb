{
 "cells": [
  {
   "cell_type": "code",
   "execution_count": 1,
   "metadata": {},
   "outputs": [],
   "source": [
    "import sys\n",
    "from PIL import Image\n",
    "import glob\n",
    "import os\n",
    "import random\n",
    "import imageio"
   ]
  },
  {
   "cell_type": "code",
   "execution_count": 6,
   "metadata": {},
   "outputs": [],
   "source": [
    "final_gif_name = \"colloboartion_01\"\n",
    "final_pieces = glob.glob(\"*_final_*.png\")\n",
    "grid_size = 9\n",
    "\n",
    "widths = []\n",
    "heights = []\n",
    "\n",
    "for i in range(len(final_pieces)):\n",
    "    im = Image.open(final_pieces[i])\n",
    "    widths.append(im.size[0])\n",
    "    heights.append(im.size[1])\n",
    "    \n",
    "w = min(heights) \n",
    "h = min(widths) \n",
    "\n",
    "# resize loop\n",
    "\n",
    "for i in range(len(final_pieces)):\n",
    "    im = Image.open(final_pieces[i])\n",
    "    if im.size[0] != w or im.size[1] != h:\n",
    "        wpercent = (w/float(im.size[0]))\n",
    "        hsize = int((float(im.size[1])*float(wpercent)))\n",
    "        img = im.resize((w,hsize), Image.ANTIALIAS)\n",
    "        img.save(final_pieces[i].replace(\".jpg\", \"\") + str(w) + '_resized.png') \n",
    "        final_pieces[i] = final_pieces[i].replace(\".jpg\", \"\") + str(w) + '_resized.png'\n",
    "        \n",
    "# create gif folder and subdirectories\n",
    "os.mkdir(final_gif_name)\n",
    "os.mkdir(final_gif_name + \"/diagionals/\")\n",
    "os.mkdir(final_gif_name + \"/single_rows/\")\n",
    "os.mkdir(final_gif_name + \"/full_grids/\")"
   ]
  },
  {
   "cell_type": "code",
   "execution_count": 9,
   "metadata": {},
   "outputs": [
    {
     "name": "stdout",
     "output_type": "stream",
     "text": [
      "0\n",
      "9\n",
      "18\n",
      "27\n",
      "36\n",
      "45\n",
      "54\n",
      "63\n",
      "72\n",
      "81\n",
      "90\n"
     ]
    }
   ],
   "source": [
    "# diagionals - in order for now\n",
    "# odd numbers are right to left, even numbers left to right\n",
    "\n",
    "grid_size = 9\n",
    "file_suffix = 0\n",
    "\n",
    "\n",
    "for i in range(0, len(final_pieces), grid_size):\n",
    "    print(i)\n",
    "    images = [Image.open(x) for x in final_pieces[i:i+grid_size]]\n",
    "    widths, heights = zip(*(i.size for i in images))\n",
    "\n",
    "    total_width = sum(widths)\n",
    "    total_height = sum(heights)\n",
    "\n",
    "    new_im = Image.new('RGB', (total_width, total_height))\n",
    "\n",
    "    x_offset = 0\n",
    "    y_offset = 0\n",
    "    for im in images:\n",
    "        new_im.paste(im, (x_offset,y_offset))\n",
    "        x_offset += im.size[0]\n",
    "        y_offset += im.size[1]\n",
    "\n",
    "    new_im.save(final_gif_name + \"/diagionals/\" + str(file_suffix) + '.png')\n",
    "    file_suffix += 1\n",
    "    \n",
    "    flipped_new_im = new_im.transpose(Image.FLIP_LEFT_RIGHT)\n",
    "    flipped_new_im.save(final_gif_name + \"/diagionals/\" + str(file_suffix) + '.png')\n",
    "    file_suffix += 1\n"
   ]
  },
  {
   "cell_type": "code",
   "execution_count": 12,
   "metadata": {},
   "outputs": [],
   "source": [
    "os.mkdir(final_gif_name + \"/diagionals_seq/\")"
   ]
  },
  {
   "cell_type": "code",
   "execution_count": 14,
   "metadata": {},
   "outputs": [
    {
     "name": "stdout",
     "output_type": "stream",
     "text": [
      "0\n",
      "1\n",
      "2\n",
      "3\n",
      "4\n",
      "5\n",
      "6\n",
      "7\n",
      "8\n",
      "9\n",
      "10\n",
      "11\n",
      "12\n",
      "13\n",
      "14\n",
      "15\n",
      "16\n",
      "17\n",
      "18\n",
      "19\n",
      "20\n",
      "21\n",
      "22\n",
      "23\n",
      "24\n",
      "25\n",
      "26\n",
      "27\n",
      "28\n",
      "29\n",
      "30\n",
      "31\n",
      "32\n",
      "33\n",
      "34\n",
      "35\n",
      "36\n",
      "37\n",
      "38\n",
      "39\n",
      "40\n",
      "41\n",
      "42\n",
      "43\n",
      "44\n",
      "45\n",
      "46\n",
      "47\n",
      "48\n",
      "49\n",
      "50\n",
      "51\n",
      "52\n",
      "53\n",
      "54\n",
      "55\n",
      "56\n",
      "57\n",
      "58\n",
      "59\n",
      "60\n",
      "61\n",
      "62\n",
      "63\n",
      "64\n",
      "65\n",
      "66\n",
      "67\n",
      "68\n",
      "69\n",
      "70\n",
      "71\n",
      "72\n",
      "73\n",
      "74\n",
      "75\n",
      "76\n",
      "77\n",
      "78\n",
      "79\n",
      "80\n",
      "81\n",
      "82\n",
      "83\n",
      "84\n",
      "85\n",
      "86\n",
      "87\n",
      "88\n",
      "89\n",
      "90\n",
      "91\n",
      "92\n",
      "93\n",
      "94\n",
      "95\n",
      "96\n"
     ]
    }
   ],
   "source": [
    "grid_size = 9\n",
    "file_suffix = 0\n",
    "\n",
    "\n",
    "for i in range(0, len(final_pieces)):\n",
    "    print(i)\n",
    "    images = [Image.open(x) for x in final_pieces[i:i+grid_size]]\n",
    "    widths, heights = zip(*(i.size for i in images))\n",
    "\n",
    "    total_width = sum(widths)\n",
    "    total_height = sum(heights)\n",
    "\n",
    "    new_im = Image.new('RGB', (total_width, total_height))\n",
    "\n",
    "    x_offset = 0\n",
    "    y_offset = 0\n",
    "    for im in images:\n",
    "        new_im.paste(im, (x_offset,y_offset))\n",
    "        x_offset += im.size[0]\n",
    "        y_offset += im.size[1]\n",
    "\n",
    "    new_im.save(final_gif_name + \"/diagionals_seq/\" + str(file_suffix) + '.png')\n",
    "    file_suffix += 1\n",
    "    \n",
    "    flipped_new_im = new_im.transpose(Image.FLIP_LEFT_RIGHT)\n",
    "    flipped_new_im.save(final_gif_name + \"/diagionals_seq/\" + str(file_suffix) + '.png')\n",
    "    file_suffix += 1\n"
   ]
  },
  {
   "cell_type": "code",
   "execution_count": 15,
   "metadata": {},
   "outputs": [],
   "source": [
    "os.mkdir(final_gif_name + \"/partial_grids/\")"
   ]
  },
  {
   "cell_type": "code",
   "execution_count": 17,
   "metadata": {},
   "outputs": [
    {
     "name": "stdout",
     "output_type": "stream",
     "text": [
      "0\n",
      "9\n",
      "18\n",
      "27\n",
      "36\n",
      "45\n",
      "54\n",
      "63\n",
      "72\n",
      "81\n",
      "90\n"
     ]
    }
   ],
   "source": [
    "# grid pieces\n",
    "\n",
    "file_suffix = 0\n",
    "\n",
    "for i in range(0, len(final_pieces), grid_size):\n",
    "    print(i)\n",
    "    images = [Image.open(x) for x in final_pieces[0+i:grid_size*grid_size+1+i]]\n",
    "    widths, heights = zip(*(i.size for i in images))\n",
    "\n",
    "    # assuming same size images\n",
    "    total_width = widths[0]*grid_size\n",
    "    total_height = heights[0]*grid_size\n",
    "\n",
    "    new_im = Image.new('RGB', (total_width, total_height))\n",
    "\n",
    "    x_offset = 0\n",
    "    y_offset = 0\n",
    "    for i in range(len(images)):\n",
    "        new_im.paste(images[i], (x_offset,y_offset))\n",
    "        x_offset += im.size[0]\n",
    "        if i !=0 and i%9 == 0:\n",
    "            x_offset = 0\n",
    "            y_offset += im.size[1]\n",
    "\n",
    "    new_im.save(final_gif_name + \"/partial_grids/\" + str(file_suffix) + '.png')\n",
    "    file_suffix += 1\n",
    "    "
   ]
  },
  {
   "cell_type": "code",
   "execution_count": 21,
   "metadata": {},
   "outputs": [
    {
     "name": "stdout",
     "output_type": "stream",
     "text": [
      "0\n",
      "1\n",
      "2\n",
      "3\n",
      "4\n",
      "5\n",
      "6\n",
      "7\n",
      "8\n",
      "9\n",
      "10\n",
      "11\n",
      "12\n",
      "13\n",
      "14\n",
      "15\n",
      "16\n",
      "17\n",
      "18\n",
      "19\n",
      "20\n",
      "21\n",
      "22\n",
      "23\n",
      "24\n"
     ]
    }
   ],
   "source": [
    "# grids - images randomly shuffeled\n",
    "\n",
    "#file_suffix = 0\n",
    "num_grids = 25\n",
    "\n",
    "for i in range(num_grids):\n",
    "    print(i)\n",
    "    random.shuffle(final_pieces)\n",
    "    images = [Image.open(x) for x in final_pieces[0:grid_size*grid_size+1]]\n",
    "    widths, heights = zip(*(i.size for i in images))\n",
    "\n",
    "    # assuming same size images\n",
    "    total_width = widths[0]*grid_size\n",
    "    total_height = heights[0]*grid_size\n",
    "\n",
    "    new_im = Image.new('RGB', (total_width, total_height))\n",
    "\n",
    "    x_offset = 0\n",
    "    y_offset = 0\n",
    "    for i in range(len(images)):\n",
    "        new_im.paste(images[i], (x_offset,y_offset))\n",
    "        x_offset += im.size[0]\n",
    "        if i !=0 and i%grid_size == 0:\n",
    "            x_offset = 0\n",
    "            y_offset += im.size[1]\n",
    "\n",
    "    new_im.save(final_gif_name + \"/full_grids/\" + str(file_suffix) + \"_\" + str(grid_size) + '_.png')\n",
    "    file_suffix += 1\n"
   ]
  },
  {
   "cell_type": "code",
   "execution_count": 23,
   "metadata": {},
   "outputs": [],
   "source": [
    "# make images 3x larger \n",
    "\n",
    "three_times_larger_images = []\n",
    "\n",
    "for i in range(len(final_pieces)):\n",
    "    im = Image.open(final_pieces[i])\n",
    "    wpercent = (w/float(im.size[0]))\n",
    "    hsize = int((float(im.size[1])*float(wpercent)))\n",
    "    img = im.resize((3*w,3*hsize), Image.ANTIALIAS)\n",
    "    img.save(final_pieces[i].replace(\".jpg\", \"\") + str(w) + '_resized_3_times.png') \n",
    "    three_times_larger_images.append(final_pieces[i].replace(\".jpg\", \"\") + str(w) + '_resized_3_times.png')"
   ]
  },
  {
   "cell_type": "code",
   "execution_count": 24,
   "metadata": {},
   "outputs": [],
   "source": [
    "os.mkdir(final_gif_name + \"/three_by_three_gifs/\")"
   ]
  },
  {
   "cell_type": "code",
   "execution_count": 26,
   "metadata": {},
   "outputs": [
    {
     "name": "stdout",
     "output_type": "stream",
     "text": [
      "0\n",
      "1\n",
      "2\n",
      "3\n",
      "4\n",
      "5\n",
      "6\n",
      "7\n",
      "8\n",
      "9\n",
      "10\n",
      "11\n",
      "12\n",
      "13\n",
      "14\n",
      "15\n",
      "16\n",
      "17\n",
      "18\n",
      "19\n",
      "20\n",
      "21\n",
      "22\n",
      "23\n",
      "24\n"
     ]
    }
   ],
   "source": [
    "num_grids = 25\n",
    "grid_size = 3\n",
    "\n",
    "for i in range(num_grids):\n",
    "    print(i)\n",
    "    random.shuffle(three_times_larger_images)\n",
    "    images = [Image.open(x) for x in three_times_larger_images[0:grid_size*grid_size+1]]\n",
    "    widths, heights = zip(*(i.size for i in images))\n",
    "\n",
    "    # assuming same size images\n",
    "    total_width = widths[0]*grid_size\n",
    "    total_height = heights[0]*grid_size\n",
    "\n",
    "    new_im = Image.new('RGB', (total_width, total_height))\n",
    "\n",
    "    x_offset = 0\n",
    "    y_offset = 0\n",
    "    for i in range(len(images)):\n",
    "        new_im.paste(images[i], (x_offset,y_offset))\n",
    "        x_offset += im.size[0]\n",
    "        if i !=0 and i%grid_size == 0:\n",
    "            x_offset = 0\n",
    "            y_offset += im.size[1]\n",
    "\n",
    "    new_im.save(final_gif_name + \"/three_by_three_gifs/\" + str(file_suffix) + \"_\" + str(grid_size) + '_.png')\n",
    "    file_suffix += 1\n",
    "    \n",
    "    \n",
    "    flipped_new_im = new_im.transpose(Image.FLIP_LEFT_RIGHT)\n",
    "    flipped_new_im.save(final_gif_name + \"/three_by_three_gifs/\" + str(file_suffix) + \"_\" + str(grid_size) + '_.png')\n",
    "    file_suffix += 1\n",
    "    \n",
    "    flipped_new_im = new_im.transpose(Image.FLIP_TOP_BOTTOM)\n",
    "    flipped_new_im.save(final_gif_name + \"/three_by_three_gifs/\" + str(file_suffix) + \"_\" + str(grid_size) + '_.png')\n",
    "    file_suffix += 1\n",
    "    \n",
    "    flipped_new_im = flipped_new_im.transpose(Image.FLIP_LEFT_RIGHT)\n",
    "    flipped_new_im.save(final_gif_name + \"/three_by_three_gifs/\" + str(file_suffix) + \"_\" + str(grid_size) + '_.png')\n",
    "    file_suffix += 1"
   ]
  },
  {
   "cell_type": "code",
   "execution_count": 35,
   "metadata": {},
   "outputs": [],
   "source": [
    "os.mkdir(final_gif_name + \"/grids_3x3/\")"
   ]
  },
  {
   "cell_type": "code",
   "execution_count": 37,
   "metadata": {},
   "outputs": [
    {
     "name": "stdout",
     "output_type": "stream",
     "text": [
      "0\n",
      "1\n"
     ]
    }
   ],
   "source": [
    "num_grids = 2\n",
    "grid_size = 3\n",
    "\n",
    "for i in range(num_grids):\n",
    "    print(i)\n",
    "    random.shuffle(final_pieces)\n",
    "    images = [Image.open(x) for x in final_pieces[0:grid_size*grid_size+1]]\n",
    "    widths, heights = zip(*(i.size for i in images))\n",
    "\n",
    "    # assuming same size images\n",
    "    total_width = widths[0]*grid_size\n",
    "    total_height = heights[0]*grid_size\n",
    "\n",
    "    new_im = Image.new('RGB', (total_width, total_height))\n",
    "\n",
    "    x_offset = 0\n",
    "    y_offset = 0\n",
    "    for i in range(len(images)):\n",
    "        new_im.paste(images[i], (x_offset,y_offset))\n",
    "        x_offset += im.size[0]\n",
    "        if i !=0 and i%grid_size == 0:\n",
    "            x_offset = 0\n",
    "            y_offset += im.size[1]\n",
    "            \n",
    "   \n",
    "\n",
    "    new_im.save(final_gif_name + \"/grids_3x3/\" + str(file_suffix) + \"_\" + str(grid_size) + '_.png')\n",
    "    \n",
    "    \n",
    "#     wpercent = (w*float(new_im.size[0]))\n",
    "#     hsize = int((float(new_im.size[1])*float(wpercent)))\n",
    "#     resize_new_im = new_im.resize((w,hsize), Image.ANTIALIAS)\n",
    "#     resize_new_im.save(final_gif_name + \"/grids_3x3/\" + str(file_suffix) + \"_\" + str(grid_size) + '_resize_.png')\n",
    "    file_suffix += 1\n"
   ]
  },
  {
   "cell_type": "code",
   "execution_count": 27,
   "metadata": {},
   "outputs": [],
   "source": [
    "os.mkdir(final_gif_name + \"/cropped_9x9/\")"
   ]
  },
  {
   "cell_type": "code",
   "execution_count": 33,
   "metadata": {},
   "outputs": [],
   "source": [
    "# take a 9 x 9 grid, crop and then make it 3 X 3\n",
    "\n",
    "nine_by_nine = glob.glob(final_gif_name + \"/full_grids/*.png\")\n",
    "\n",
    "image_file_name = nine_by_nine[0]\n",
    "\n",
    "im = Image.open(image_file_name)\n",
    "\n",
    "im.crop((float(im.size[0])/3, float(im.size[1])/3, 0, 0))\n",
    "\n",
    "im.show()\n"
   ]
  },
  {
   "cell_type": "code",
   "execution_count": null,
   "metadata": {},
   "outputs": [],
   "source": [
    "# single_rows folder\n",
    "\n",
    "# https://stackoverflow.com/questions/30227466/combine-several-images-horizontally-with-python\n",
    "# One 9 x 9 grid created from people's responces\n",
    "# diaginal images, cool but not what intended\n",
    "images = [Image.open(x) for x in final_pieces[3:12]]\n",
    "# not resizing - figure out \n",
    "widths, heights = zip(*(i.size for i in images))\n",
    "\n",
    "total_width = sum(widths)\n",
    "total_height = sum(heights)\n",
    "\n",
    "new_im = Image.new('RGB', (total_width, total_height))\n",
    "\n",
    "x_offset = 0\n",
    "y_offset = 0\n",
    "for im in images:\n",
    "    new_im.paste(im, (x_offset,y_offset))\n",
    "    x_offset += im.size[0]\n",
    "    # y_offset += im.size[1]\n",
    "\n",
    "new_im.save('test_combo_43.png')\n",
    "new_im.show()"
   ]
  },
  {
   "cell_type": "markdown",
   "metadata": {},
   "source": [
    "## Create GIF"
   ]
  },
  {
   "cell_type": "code",
   "execution_count": 3,
   "metadata": {},
   "outputs": [],
   "source": [
    "final_gif_name = \"colloboartion_01\"\n",
    "full_grids = sorted(glob.glob(final_gif_name + \"/full_grids/*.png\"))\n",
    "diagionals = sorted(glob.glob(final_gif_name + \"/diagionals/*.png\"))\n",
    "rotations = sorted(glob.glob(final_gif_name + \"/three_by_three_gifs/*.png\"))[40:]\n",
    "\n",
    "\n",
    "\n",
    "# images_in_order = full_grids[10:20] + diagionals[0:10] + rotations[20:32] + full_grids[:10]\n",
    "\n",
    "\n",
    "\n",
    "# with imageio.get_writer(final_gif_name + '_monster_intial_composites.gif', mode='I') as writer:\n",
    "#     for filename in images_in_order:\n",
    "#         try:\n",
    "#             image = imageio.imread(filename)\n",
    "#             writer.append_data(image)\n",
    "#         except:\n",
    "#             print(filename)"
   ]
  },
  {
   "cell_type": "code",
   "execution_count": 7,
   "metadata": {},
   "outputs": [],
   "source": [
    "final_gif_name = \"intial_iteration\"\n",
    "images_in_order = full_grids[0:19]\n",
    "\n",
    "\n",
    "with imageio.get_writer(final_gif_name + '_grids_composites.gif', mode='I') as writer:\n",
    "    for filename in images_in_order:\n",
    "        try:\n",
    "            image = imageio.imread(filename)\n",
    "            writer.append_data(image)\n",
    "        except:\n",
    "            print(filename)"
   ]
  },
  {
   "cell_type": "code",
   "execution_count": 5,
   "metadata": {},
   "outputs": [
    {
     "data": {
      "text/plain": [
       "29"
      ]
     },
     "execution_count": 5,
     "metadata": {},
     "output_type": "execute_result"
    }
   ],
   "source": [
    "len(images_in_order)"
   ]
  },
  {
   "cell_type": "code",
   "execution_count": 3,
   "metadata": {},
   "outputs": [],
   "source": [
    "fp_out = final_gif_name + \"_all_composites_4.gif\"\n",
    "\n",
    "img, *imgs = [Image.open(f) for f in images_in_order]\n",
    "img.save(fp=fp_out, format='GIF', append_images=imgs,\n",
    "         save_all=True, duration=150, loop=0)"
   ]
  },
  {
   "cell_type": "code",
   "execution_count": 41,
   "metadata": {},
   "outputs": [
    {
     "data": {
      "text/plain": [
       "(29, 22, 73)"
      ]
     },
     "execution_count": 41,
     "metadata": {},
     "output_type": "execute_result"
    }
   ],
   "source": [
    "len(full_grids), len(diagionals), len(rotations)"
   ]
  },
  {
   "cell_type": "code",
   "execution_count": null,
   "metadata": {},
   "outputs": [],
   "source": []
  },
  {
   "cell_type": "code",
   "execution_count": null,
   "metadata": {},
   "outputs": [],
   "source": []
  },
  {
   "cell_type": "code",
   "execution_count": 32,
   "metadata": {},
   "outputs": [],
   "source": [
    "# https://stackoverflow.com/questions/30227466/combine-several-images-horizontally-with-python\n",
    "# One grid_size x grid_size grid created from people's responces\n",
    "# all of them horizonitial\n",
    "\n",
    "grid_size = 9\n",
    "images = [Image.open(x) for x in final_pieces[0+40:grid_size*grid_size+1+40]]\n",
    "# not resizing - figure out \n",
    "widths, heights = zip(*(i.size for i in images))\n",
    "\n",
    "# assuming same size images\n",
    "total_width = widths[0]*grid_size\n",
    "total_height = heights[0]*grid_size\n",
    "\n",
    "new_im = Image.new('RGB', (total_width, total_height))\n",
    "\n",
    "x_offset = 0\n",
    "y_offset = 0\n",
    "for i in range(len(images)):\n",
    "    new_im.paste(images[i], (x_offset,y_offset))\n",
    "    x_offset += im.size[0]\n",
    "    if i !=0 and i%9 == 0:\n",
    "        x_offset = 0\n",
    "        y_offset += im.size[1]\n",
    "\n",
    "new_im.save('test_combo_square_2_' + str(grid_size) + '_.png')\n",
    "new_im.show()"
   ]
  },
  {
   "cell_type": "code",
   "execution_count": 24,
   "metadata": {},
   "outputs": [
    {
     "data": {
      "text/plain": [
       "0"
      ]
     },
     "execution_count": 24,
     "metadata": {},
     "output_type": "execute_result"
    }
   ],
   "source": [
    "81%9"
   ]
  },
  {
   "cell_type": "code",
   "execution_count": 26,
   "metadata": {},
   "outputs": [
    {
     "data": {
      "text/plain": [
       "0"
      ]
     },
     "execution_count": 26,
     "metadata": {},
     "output_type": "execute_result"
    }
   ],
   "source": [
    "18%9"
   ]
  },
  {
   "cell_type": "code",
   "execution_count": 20,
   "metadata": {},
   "outputs": [],
   "source": [
    "# https://stackoverflow.com/questions/30227466/combine-several-images-horizontally-with-python\n",
    "# One 9 x 1 grid created from people's responces\n",
    "# all of them horizonitial\n",
    "\n",
    "images = [Image.open(x) for x in final_pieces[0+10:9+10]]\n",
    "# not resizing - figure out \n",
    "widths, heights = zip(*(i.size for i in images))\n",
    "\n",
    "total_width = sum(widths)\n",
    "total_height = max(heights)\n",
    "\n",
    "new_im = Image.new('RGB', (total_width, total_height))\n",
    "\n",
    "x_offset = 0\n",
    "y_offset = 0\n",
    "for im in images:\n",
    "    new_im.paste(im, (x_offset,y_offset))\n",
    "    x_offset += im.size[0]\n",
    "    # y_offset += im.size[1]\n",
    "\n",
    "new_im.save('test_combo_9.png')\n",
    "new_im.show()"
   ]
  },
  {
   "cell_type": "code",
   "execution_count": 38,
   "metadata": {},
   "outputs": [],
   "source": [
    "# https://stackoverflow.com/questions/30227466/combine-several-images-horizontally-with-python\n",
    "# One 9 x 1 grid created from people's responces\n",
    "# all of them horizonitial\n",
    "\n",
    "images = [Image.open(x) for x in final_pieces[3:12]]\n",
    "# not resizing - figure out \n",
    "widths, heights = zip(*(i.size for i in images))\n",
    "\n",
    "total_width = sum(widths)\n",
    "total_height = max(heights)\n",
    "\n",
    "new_im = Image.new('RGB', (total_width, total_height))\n",
    "\n",
    "x_offset = 0\n",
    "y_offset = 0\n",
    "for im in images:\n",
    "    new_im.paste(im, (x_offset,y_offset))\n",
    "    x_offset += im.size[0]\n",
    "    # y_offset += im.size[1]\n",
    "\n",
    "new_im.save('test_combo_33.png')\n",
    "new_im.show()"
   ]
  },
  {
   "cell_type": "code",
   "execution_count": 39,
   "metadata": {},
   "outputs": [],
   "source": [
    "# https://stackoverflow.com/questions/30227466/combine-several-images-horizontally-with-python\n",
    "# One 9 x 9 diag created from people's responces\n",
    "# diaginal images, cool but not what intended\n",
    "images = [Image.open(x) for x in final_pieces[3:12]]\n",
    "# not resizing - figure out \n",
    "widths, heights = zip(*(i.size for i in images))\n",
    "\n",
    "total_width = sum(widths)\n",
    "total_height = sum(heights)\n",
    "\n",
    "new_im = Image.new('RGB', (total_width, total_height))\n",
    "\n",
    "x_offset = 0\n",
    "y_offset = 0\n",
    "for im in images:\n",
    "    new_im.paste(im, (x_offset,y_offset))\n",
    "    x_offset += im.size[0]\n",
    "    y_offset += im.size[1]\n",
    "\n",
    "new_im.save('test_combo_583747.png')\n",
    "new_im.show()"
   ]
  },
  {
   "cell_type": "code",
   "execution_count": 36,
   "metadata": {},
   "outputs": [],
   "source": [
    "# https://stackoverflow.com/questions/30227466/combine-several-images-horizontally-with-python\n",
    "# One 9 x 9 grid created from people's responces\n",
    "# diaginal images, cool but not what intended\n",
    "images = [Image.open(x) for x in final_pieces[3:12]]\n",
    "# not resizing - figure out \n",
    "widths, heights = zip(*(i.size for i in images))\n",
    "\n",
    "total_width = sum(widths)\n",
    "total_height = sum(heights)\n",
    "\n",
    "new_im = Image.new('RGB', (total_width, total_height))\n",
    "\n",
    "x_offset = total_width - im.size[0]\n",
    "y_offset = total_height - im.size[1]\n",
    "for im in images:\n",
    "    new_im.paste(im, (x_offset,y_offset))\n",
    "    x_offset -=  im.size[0]\n",
    "    y_offset -=  im.size[1]\n",
    "\n",
    "flipped_new_im = new_im.transpose(Image.FLIP_LEFT_RIGHT)\n",
    "flipped_new_im.save('test_combo_diag_flipped_right_left.png')\n",
    "flipped_new_im.show()"
   ]
  },
  {
   "cell_type": "code",
   "execution_count": 5,
   "metadata": {},
   "outputs": [
    {
     "data": {
      "text/plain": [
       "2"
      ]
     },
     "execution_count": 5,
     "metadata": {},
     "output_type": "execute_result"
    }
   ],
   "source": [
    "widths.index(max(widths))"
   ]
  },
  {
   "cell_type": "code",
   "execution_count": 10,
   "metadata": {},
   "outputs": [],
   "source": [
    "# https://stackoverflow.com/questions/273946/how-do-i-resize-an-image-using-pil-and-maintain-its-aspect-ratio\n",
    "# reszie large image\n",
    "from PIL import Image\n",
    "\n",
    "basewidth = w\n",
    "img = Image.open(final_pieces[widths.index(max(widths))])\n",
    "wpercent = (basewidth/float(img.size[0]))\n",
    "hsize = int((float(img.size[1])*float(wpercent)))\n",
    "img = img.resize((basewidth,hsize), Image.ANTIALIAS)\n",
    "img.save(final_pieces[widths.index(max(widths))].replace(\".jpg\", \"\") + str(w) + '_resized.png') \n",
    "img.show()"
   ]
  },
  {
   "cell_type": "code",
   "execution_count": null,
   "metadata": {},
   "outputs": [],
   "source": []
  }
 ],
 "metadata": {
  "kernelspec": {
   "display_name": "Python 3",
   "language": "python",
   "name": "python3"
  },
  "language_info": {
   "codemirror_mode": {
    "name": "ipython",
    "version": 3
   },
   "file_extension": ".py",
   "mimetype": "text/x-python",
   "name": "python",
   "nbconvert_exporter": "python",
   "pygments_lexer": "ipython3",
   "version": "3.7.1"
  }
 },
 "nbformat": 4,
 "nbformat_minor": 2
}
