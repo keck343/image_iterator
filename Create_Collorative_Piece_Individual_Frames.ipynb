{
 "cells": [
  {
   "cell_type": "code",
   "execution_count": 1,
   "metadata": {},
   "outputs": [],
   "source": [
    "import sys\n",
    "from PIL import Image\n",
    "import glob"
   ]
  },
  {
   "cell_type": "code",
   "execution_count": 11,
   "metadata": {},
   "outputs": [
    {
     "data": {
      "text/plain": [
       "(676, 676)"
      ]
     },
     "execution_count": 11,
     "metadata": {},
     "output_type": "execute_result"
    }
   ],
   "source": [
    "final_pieces = glob.glob(\"*_final_*.png\")\n",
    "\n",
    "widths = []\n",
    "heights = []\n",
    "\n",
    "for i in range(len(final_pieces)):\n",
    "    im = Image.open(final_pieces[i])\n",
    "    widths.append(im.size[0])\n",
    "    heights.append(im.size[1])\n",
    "    \n",
    "w = min(heights) \n",
    "h = min(widths) \n",
    "\n",
    "w, h"
   ]
  },
  {
   "cell_type": "code",
   "execution_count": 18,
   "metadata": {},
   "outputs": [],
   "source": [
    "# resize loop\n",
    "\n",
    "for i in range(len(final_pieces)):\n",
    "    im = Image.open(final_pieces[i])\n",
    "    if im.size[0] != w or im.size[1] != h:\n",
    "        wpercent = (w/float(img.size[0]))\n",
    "        hsize = int((float(img.size[1])*float(wpercent)))\n",
    "        img = img.resize((w,hsize), Image.ANTIALIAS)\n",
    "        img.save(final_pieces[i].replace(\".jpg\", \"\") + str(w) + '_resized.png') \n",
    "        final_pieces[i] = final_pieces[i].replace(\".jpg\", \"\") + str(w) + '_resized.png'\n",
    "\n",
    "        \n",
    "    "
   ]
  },
  {
   "cell_type": "code",
   "execution_count": 14,
   "metadata": {
    "scrolled": true
   },
   "outputs": [
    {
     "data": {
      "text/plain": [
       "9"
      ]
     },
     "execution_count": 14,
     "metadata": {},
     "output_type": "execute_result"
    }
   ],
   "source": [
    "len(widths[3:12])"
   ]
  },
  {
   "cell_type": "code",
   "execution_count": 39,
   "metadata": {},
   "outputs": [],
   "source": [
    "# https://stackoverflow.com/questions/30227466/combine-several-images-horizontally-with-python\n",
    "# One grid_size x grid_size grid created from people's responces\n",
    "# all of them horizonitial\n",
    "\n",
    "grid_size = 9\n",
    "images = [Image.open(x) for x in final_pieces[0:grid_size*grid_size+1]]\n",
    "# not resizing - figure out \n",
    "widths, heights = zip(*(i.size for i in images))\n",
    "\n",
    "# assuming same size images\n",
    "total_width = widths[0]*grid_size\n",
    "total_height = heights[0]*grid_size\n",
    "\n",
    "new_im = Image.new('RGB', (total_width, total_height))\n",
    "\n",
    "x_offset = 0\n",
    "y_offset = 0\n",
    "for i in range(len(images)):\n",
    "    new_im.paste(images[i], (x_offset,y_offset))\n",
    "    x_offset += im.size[0]\n",
    "    if i !=0 and i%9 == 0:\n",
    "        x_offset = 0\n",
    "        y_offset += im.size[1]\n",
    "\n",
    "new_im.save('test_combo_square_4_' + str(grid_size) + '_.png')\n",
    "new_im.show()"
   ]
  },
  {
   "cell_type": "code",
   "execution_count": 24,
   "metadata": {},
   "outputs": [
    {
     "data": {
      "text/plain": [
       "0"
      ]
     },
     "execution_count": 24,
     "metadata": {},
     "output_type": "execute_result"
    }
   ],
   "source": [
    "81%9"
   ]
  },
  {
   "cell_type": "code",
   "execution_count": 26,
   "metadata": {},
   "outputs": [
    {
     "data": {
      "text/plain": [
       "0"
      ]
     },
     "execution_count": 26,
     "metadata": {},
     "output_type": "execute_result"
    }
   ],
   "source": [
    "18%9"
   ]
  },
  {
   "cell_type": "code",
   "execution_count": 40,
   "metadata": {},
   "outputs": [],
   "source": [
    "# https://stackoverflow.com/questions/30227466/combine-several-images-horizontally-with-python\n",
    "# One 9 x 1 grid created from people's responces\n",
    "# all of them horizonitial\n",
    "\n",
    "images = [Image.open(x) for x in final_pieces[0+10:9+10]]\n",
    "# not resizing - figure out \n",
    "widths, heights = zip(*(i.size for i in images))\n",
    "\n",
    "total_width = sum(widths)\n",
    "total_height = max(heights)\n",
    "\n",
    "new_im = Image.new('RGB', (total_width, total_height))\n",
    "\n",
    "x_offset = 0\n",
    "y_offset = 0\n",
    "for im in images:\n",
    "    new_im.paste(im, (x_offset,y_offset))\n",
    "    x_offset += im.size[0]\n",
    "    # y_offset += im.size[1]\n",
    "\n",
    "new_im.save('test_combo_99.png')\n",
    "new_im.show()"
   ]
  },
  {
   "cell_type": "code",
   "execution_count": 41,
   "metadata": {},
   "outputs": [],
   "source": [
    "# https://stackoverflow.com/questions/30227466/combine-several-images-horizontally-with-python\n",
    "# One 9 x 1 grid created from people's responces\n",
    "# all of them horizonitial\n",
    "\n",
    "images = [Image.open(x) for x in final_pieces[3:12]]\n",
    "# not resizing - figure out \n",
    "widths, heights = zip(*(i.size for i in images))\n",
    "\n",
    "total_width = sum(widths)\n",
    "total_height = max(heights)\n",
    "\n",
    "new_im = Image.new('RGB', (total_width, total_height))\n",
    "\n",
    "x_offset = 0\n",
    "y_offset = 0\n",
    "for im in images:\n",
    "    new_im.paste(im, (x_offset,y_offset))\n",
    "    x_offset += im.size[0]\n",
    "    # y_offset += im.size[1]\n",
    "\n",
    "new_im.save('test_combo_3.png')\n",
    "new_im.show()"
   ]
  },
  {
   "cell_type": "code",
   "execution_count": 43,
   "metadata": {},
   "outputs": [],
   "source": [
    "# https://stackoverflow.com/questions/30227466/combine-several-images-horizontally-with-python\n",
    "# One 9 x 9 grid created from people's responces\n",
    "# diaginal images, cool but not what intended\n",
    "images = [Image.open(x) for x in final_pieces[3:12]]\n",
    "# not resizing - figure out \n",
    "widths, heights = zip(*(i.size for i in images))\n",
    "\n",
    "total_width = sum(widths)\n",
    "total_height = sum(heights)\n",
    "\n",
    "new_im = Image.new('RGB', (total_width, total_height))\n",
    "\n",
    "x_offset = 0\n",
    "y_offset = 0\n",
    "for im in images:\n",
    "    new_im.paste(im, (x_offset,y_offset))\n",
    "    x_offset += im.size[0]\n",
    "    # y_offset += im.size[1]\n",
    "\n",
    "new_im.save('test_combo_43.png')\n",
    "new_im.show()"
   ]
  },
  {
   "cell_type": "code",
   "execution_count": 36,
   "metadata": {},
   "outputs": [],
   "source": [
    "# https://stackoverflow.com/questions/30227466/combine-several-images-horizontally-with-python\n",
    "# One 9 x 9 grid created from people's responces\n",
    "# diaginal images, cool but not what intended\n",
    "images = [Image.open(x) for x in final_pieces[3:12]]\n",
    "# not resizing - figure out \n",
    "widths, heights = zip(*(i.size for i in images))\n",
    "\n",
    "total_width = sum(widths)\n",
    "total_height = sum(heights)\n",
    "\n",
    "new_im = Image.new('RGB', (total_width, total_height))\n",
    "\n",
    "x_offset = total_width - im.size[0]\n",
    "y_offset = total_height - im.size[1]\n",
    "for im in images:\n",
    "    new_im.paste(im, (x_offset,y_offset))\n",
    "    x_offset -=  im.size[0]\n",
    "    y_offset -=  im.size[1]\n",
    "\n",
    "flipped_new_im = new_im.transpose(Image.FLIP_LEFT_RIGHT)\n",
    "flipped_new_im.save('test_combo_diag_flipped_right_left.png')\n",
    "flipped_new_im.show()"
   ]
  },
  {
   "cell_type": "code",
   "execution_count": 5,
   "metadata": {},
   "outputs": [
    {
     "data": {
      "text/plain": [
       "2"
      ]
     },
     "execution_count": 5,
     "metadata": {},
     "output_type": "execute_result"
    }
   ],
   "source": [
    "widths.index(max(widths))"
   ]
  },
  {
   "cell_type": "code",
   "execution_count": 10,
   "metadata": {},
   "outputs": [],
   "source": [
    "# https://stackoverflow.com/questions/273946/how-do-i-resize-an-image-using-pil-and-maintain-its-aspect-ratio\n",
    "# reszie large image\n",
    "from PIL import Image\n",
    "\n",
    "basewidth = w\n",
    "img = Image.open(final_pieces[widths.index(max(widths))])\n",
    "wpercent = (basewidth/float(img.size[0]))\n",
    "hsize = int((float(img.size[1])*float(wpercent)))\n",
    "img = img.resize((basewidth,hsize), Image.ANTIALIAS)\n",
    "img.save(final_pieces[widths.index(max(widths))].replace(\".jpg\", \"\") + str(w) + '_resized.png') \n",
    "img.show()"
   ]
  },
  {
   "cell_type": "code",
   "execution_count": null,
   "metadata": {},
   "outputs": [],
   "source": []
  }
 ],
 "metadata": {
  "kernelspec": {
   "display_name": "Python 3",
   "language": "python",
   "name": "python3"
  },
  "language_info": {
   "codemirror_mode": {
    "name": "ipython",
    "version": 3
   },
   "file_extension": ".py",
   "mimetype": "text/x-python",
   "name": "python",
   "nbconvert_exporter": "python",
   "pygments_lexer": "ipython3",
   "version": "3.7.1"
  }
 },
 "nbformat": 4,
 "nbformat_minor": 2
}
