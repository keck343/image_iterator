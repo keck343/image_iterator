{
 "cells": [
  {
   "cell_type": "code",
   "execution_count": 2,
   "metadata": {},
   "outputs": [],
   "source": [
    "from PIL import Image, ImageOps\n",
    "import glob\n",
    "import numpy as np\n",
    "import pandas as pd\n",
    "import os"
   ]
  },
  {
   "cell_type": "code",
   "execution_count": 28,
   "metadata": {},
   "outputs": [],
   "source": [
    "# assuming .jpg format\n",
    "images_list = glob.glob('images_condensed/*.jpg')\n",
    "project_name = \"condesed_always_recycle_art\"\n",
    "\n",
    "im_test = Image.open(images_list[0])"
   ]
  },
  {
   "cell_type": "code",
   "execution_count": 30,
   "metadata": {},
   "outputs": [
    {
     "name": "stdout",
     "output_type": "stream",
     "text": [
      "1200 1459\n",
      "1200 1200\n"
     ]
    }
   ],
   "source": [
    "widths = []\n",
    "heights = []\n",
    "aspect_ratio = (1, 1) # square\n",
    "\n",
    "for i in range(len(images_list)):\n",
    "    im = Image.open(images_list[i])\n",
    "    widths.append(im.size[0])\n",
    "    heights.append(im.size[1])\n",
    "    \n",
    "w = min(heights) \n",
    "h = min(widths) \n",
    "print(w, h)\n",
    "# square\n",
    "if w >= h:\n",
    "    w = h\n",
    "else:\n",
    "    h = w\n",
    "print(w, h)   \n",
    "\n",
    "# rotate images so all have the same longest side?\n",
    "\n",
    "os.mkdir(project_name)\n",
    "os.mkdir(project_name + \"/cropped_inputs\")\n"
   ]
  },
  {
   "cell_type": "code",
   "execution_count": 31,
   "metadata": {},
   "outputs": [
    {
     "data": {
      "text/plain": [
       "'images_condensed/Blank DNN 3.jpg'"
      ]
     },
     "execution_count": 31,
     "metadata": {},
     "output_type": "execute_result"
    }
   ],
   "source": [
    "images_list[widths.index(min(widths))]"
   ]
  },
  {
   "cell_type": "code",
   "execution_count": 32,
   "metadata": {},
   "outputs": [],
   "source": [
    "os.mkdir(project_name + \"/composites\")"
   ]
  },
  {
   "cell_type": "code",
   "execution_count": 33,
   "metadata": {},
   "outputs": [
    {
     "name": "stdout",
     "output_type": "stream",
     "text": [
      "0\n",
      "1\n",
      "2\n",
      "3\n",
      "4\n",
      "5\n",
      "6\n",
      "7\n",
      "8\n",
      "9\n",
      "10\n",
      "11\n",
      "12\n",
      "13\n"
     ]
    }
   ],
   "source": [
    "# crop images\n",
    "opactiy_level = 128\n",
    "\n",
    "for i in range(len(images_list)):\n",
    "    print(i)\n",
    "    im = Image.open(images_list[i])\n",
    "    alpha = Image.new(\"L\", im.size, opactiy_level) # iterate through several opacity_levels as well?\n",
    "    im_copy = im.copy() \n",
    "    im_copy.putalpha(alpha)\n",
    "    width, height = im_copy.size\n",
    "    \n",
    "    \n",
    "    crop = im_copy.crop((0, 0, w, h))\n",
    "    # cropped_example = original.crop((left, top, right, bottom))\n",
    "    crop.save(project_name + \"/cropped_inputs\" +\"/crop_\" + str(i) + \"_v1.png\")\n",
    "    \n",
    "\n",
    "    im = ImageOps.flip(im_copy)\n",
    "    crop = im.crop((0, 0, w, h)) \n",
    "    im.putalpha(alpha)\n",
    "    crop.save(project_name + \"/cropped_inputs\" +\"/crop_\" + str(i) + \"_v2.png\")\n",
    "    \n",
    "    im = ImageOps.mirror(im_copy)\n",
    "    crop = im.crop((0, 0, w, h)) \n",
    "    im.putalpha(alpha)\n",
    "    crop.save(project_name + \"/cropped_inputs\" +\"/crop_\" + str(i) + \"_v3.png\")\n",
    "    \n",
    "# #     im = im.rotate(180)\n",
    "#     crop = im.crop((0, 0, w, h)) \n",
    "#     crop.save(project_name + \"/cropped_inputs\" +\"/crop_0000\" + str(i) + \".jpg\")\n"
   ]
  },
  {
   "cell_type": "code",
   "execution_count": 34,
   "metadata": {},
   "outputs": [],
   "source": [
    "# two layer looping\n",
    "# layers should not have the same imaage \n",
    "\n",
    "crop_files = sorted(glob.glob(project_name + \"/cropped_inputs/*.png\"))\n",
    "\n",
    "num_images = len(images_list)\n",
    "# every possible combination of each version with another version of an image\n",
    "num_versions = 3\n",
    "file_suffix = 0\n",
    "\n",
    "for i in range(num_images):\n",
    "    for j in range(num_images):\n",
    "        if i != j:\n",
    "            for k in range(1, num_versions+1):\n",
    "                background = Image.open(project_name + \"/cropped_inputs\" +\"/crop_\" + str(i) + \"_v\" + str(k) +\".png\")\n",
    "                foreground = Image.open(project_name + \"/cropped_inputs\" +\"/crop_\" + str(j) + \"_v\" + str(k) +\".png\")\n",
    "                composite = Image.alpha_composite(background, foreground)\n",
    "                composite.save(project_name + \"/composites/composite_\" + str(file_suffix) + \".png\")\n",
    "                file_suffix += 1\n"
   ]
  },
  {
   "cell_type": "code",
   "execution_count": 35,
   "metadata": {},
   "outputs": [],
   "source": [
    "# Create the video and gif!\n",
    "# https://stackoverflow.com/questions/753190/programmatically-generate-video-or-animated-gif-in-python\n",
    "\n",
    "fp_in = project_name + \"/composites/composite_*.png\"\n",
    "fp_out = project_name + \"80_composites_3.gif\"\n",
    "\n",
    "# https://pillow.readthedocs.io/en/stable/handbook/image-file-formats.html#gif\n",
    "img, *imgs = [Image.open(f) for f in sorted(glob.glob(fp_in))[50:50+80]]\n",
    "img.save(fp=fp_out, format='GIF', append_images=imgs,\n",
    "         save_all=True, duration=100, loop=1) # limit of 80 images"
   ]
  },
  {
   "cell_type": "code",
   "execution_count": 36,
   "metadata": {},
   "outputs": [],
   "source": [
    "# Create the video and gif!\n",
    "# https://stackoverflow.com/questions/753190/programmatically-generate-video-or-animated-gif-in-python\n",
    "\n",
    "fp_in = project_name + \"/composites/composite_*.png\"\n",
    "fp_out = project_name + \"80_composites_2.gif\"\n",
    "\n",
    "# https://pillow.readthedocs.io/en/stable/handbook/image-file-formats.html#gif\n",
    "img, *imgs = [Image.open(f) for f in sorted(glob.glob(fp_in))[100:180]]\n",
    "img.save(fp=fp_out, format='GIF', append_images=imgs,\n",
    "         save_all=True, duration=150, loop=0) # limit of 80 images"
   ]
  },
  {
   "cell_type": "code",
   "execution_count": 37,
   "metadata": {},
   "outputs": [
    {
     "name": "stdout",
     "output_type": "stream",
     "text": [
      "0\n",
      "80\n",
      "160\n",
      "240\n",
      "320\n",
      "400\n",
      "480\n"
     ]
    }
   ],
   "source": [
    "fp_in = project_name + \"/composites/composite_*.png\"\n",
    "fp_out = project_name + \"all_composites_3.gif\"\n",
    "\n",
    "for i in range(0, len(glob.glob(fp_in)), 80):\n",
    "    print(i)\n",
    "    img, *imgs = [Image.open(f) for f in sorted(glob.glob(fp_in))[i:i+80]]\n",
    "    img.save(fp=fp_out, format='GIF', append_images=imgs,\n",
    "         save_all=True, duration=150, loop=0)"
   ]
  },
  {
   "cell_type": "code",
   "execution_count": 41,
   "metadata": {},
   "outputs": [],
   "source": [
    "?img.save"
   ]
  },
  {
   "cell_type": "code",
   "execution_count": 38,
   "metadata": {},
   "outputs": [
    {
     "name": "stdout",
     "output_type": "stream",
     "text": [
      "Requirement already satisfied: imageio in /Applications/anaconda3/lib/python3.7/site-packages (2.4.1)\r\n"
     ]
    }
   ],
   "source": [
    "! pip install imageio"
   ]
  },
  {
   "cell_type": "code",
   "execution_count": 39,
   "metadata": {},
   "outputs": [
    {
     "data": {
      "text/plain": [
       "'condesed_always_recycle_art'"
      ]
     },
     "execution_count": 39,
     "metadata": {},
     "output_type": "execute_result"
    }
   ],
   "source": [
    "project_name"
   ]
  },
  {
   "cell_type": "code",
   "execution_count": 40,
   "metadata": {},
   "outputs": [],
   "source": [
    "import imageio\n",
    "\n",
    "filenames = sorted(glob.glob(fp_in))\n",
    "\n",
    "with imageio.get_writer(project_name + '_all_composites.gif', mode='I') as writer:\n",
    "    for filename in filenames:\n",
    "        image = imageio.imread(filename)\n",
    "        writer.append_data(image)"
   ]
  },
  {
   "cell_type": "code",
   "execution_count": null,
   "metadata": {},
   "outputs": [],
   "source": []
  }
 ],
 "metadata": {
  "kernelspec": {
   "display_name": "Python 3",
   "language": "python",
   "name": "python3"
  },
  "language_info": {
   "codemirror_mode": {
    "name": "ipython",
    "version": 3
   },
   "file_extension": ".py",
   "mimetype": "text/x-python",
   "name": "python",
   "nbconvert_exporter": "python",
   "pygments_lexer": "ipython3",
   "version": "3.7.1"
  }
 },
 "nbformat": 4,
 "nbformat_minor": 2
}
